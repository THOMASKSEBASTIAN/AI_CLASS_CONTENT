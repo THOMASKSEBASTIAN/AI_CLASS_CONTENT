{
  "cells": [
    {
      "cell_type": "markdown",
      "metadata": {
        "id": "mgcMOlkOyxRz"
      },
      "source": [
        "#Activation Function\n"
      ]
    },
    {
      "cell_type": "markdown",
      "metadata": {
        "id": "zZg-wmyiy2Hd"
      },
      "source": [
        "###Importing Libraries"
      ]
    },
    {
      "cell_type": "code",
      "execution_count": 1,
      "metadata": {
        "id": "sF93yphtyrhG"
      },
      "outputs": [],
      "source": [
        "from numpy import array #For Array Initialization\n",
        "from numpy import random #For Randomly choosing Numbers\n",
        "from numpy import dot #For Doing DOT Product\n",
        "from random import choice"
      ]
    },
    {
      "cell_type": "markdown",
      "metadata": {
        "id": "_J8gcaRE3FZA"
      },
      "source": [
        "###Initialized Dataset"
      ]
    },
    {
      "cell_type": "code",
      "execution_count": 2,
      "metadata": {
        "id": "t0gwhMN6zhse"
      },
      "outputs": [
        {
          "name": "stdout",
          "output_type": "stream",
          "text": [
            "[(array([0, 0, 1]), 0), (array([0, 1, 1]), 1), (array([1, 0, 1]), 1), (array([1, 1, 1]), 1)]\n",
            "[0 0 1] 0\n"
          ]
        }
      ],
      "source": [
        "dataset = [\n",
        "    (array([0,0,1]), 0), #array([x,y,b],e) x,y=Input , b=bias, e=Expected O/P to validate\n",
        "    (array([0,1,1]), 1),\n",
        "    (array([1,0,1]), 1),\n",
        "    (array([1,1,1]), 1),\n",
        "]\n",
        "print(dataset)\n",
        "print(array([0,0,1]), 0)"
      ]
    },
    {
      "cell_type": "markdown",
      "metadata": {
        "id": "K1t7I4cI3Myu"
      },
      "source": [
        "###Initializing Random numbers for WEIGHTS"
      ]
    },
    {
      "cell_type": "code",
      "execution_count": 3,
      "metadata": {
        "id": "gaCIPAqe3RIM"
      },
      "outputs": [
        {
          "data": {
            "text/plain": [
              "array([0.12815154, 0.38653116, 0.77798548])"
            ]
          },
          "execution_count": 3,
          "metadata": {},
          "output_type": "execute_result"
        }
      ],
      "source": [
        "weights = random.rand(3)\n",
        "weights"
      ]
    },
    {
      "cell_type": "markdown",
      "metadata": {
        "id": "mek19BC73eeJ"
      },
      "source": [
        "###Initializing additional variables"
      ]
    },
    {
      "cell_type": "code",
      "execution_count": 4,
      "metadata": {
        "id": "cmRWDOef3hk3"
      },
      "outputs": [],
      "source": [
        "r = 0.2 #learning Rate\n",
        "n = 100 #Number of Iteration"
      ]
    },
    {
      "cell_type": "markdown",
      "metadata": {
        "id": "8ZWkFpAX0yfF"
      },
      "source": [
        "##ACTIVATION FUNCTION"
      ]
    },
    {
      "cell_type": "markdown",
      "metadata": {
        "id": "qFkj9b4T2-fc"
      },
      "source": [
        "###Training & Evaluating using STEP Activation Function"
      ]
    },
    {
      "cell_type": "code",
      "execution_count": 5,
      "metadata": {
        "id": "xV6bz_6-3x77"
      },
      "outputs": [
        {
          "name": "stdout",
          "output_type": "stream",
          "text": [
            "ResultBAFn: -0.022 ResultAFn: 0\n",
            "ResultBAFn: 0.365 ResultAFn: 1\n",
            "ResultBAFn: 0.106 ResultAFn: 1\n",
            "ResultBAFn: 0.493 ResultAFn: 1\n"
          ]
        }
      ],
      "source": [
        "activationFn = lambda x: 0 if x < 0 else 1 #step activation function (if i/p is negative o/p is 0 else 1)\n",
        "for j in range(n):\n",
        "    x, expected = choice(dataset) \n",
        "    result = dot(weights, x)\n",
        "    err = expected-activationFn(result)\n",
        "    weights += r * err * x\n",
        "\n",
        "for x, _ in dataset:\n",
        "    result = dot(x, weights)\n",
        "    print(\"ResultBAFn: {} ResultAFn: {}\".format(round(result,3), activationFn(result)))    "
      ]
    },
    {
      "cell_type": "markdown",
      "metadata": {
        "id": "6AMAQwMw04NZ"
      },
      "source": [
        "###Training & Evaluating using LINEAR Activation Function\n"
      ]
    },
    {
      "cell_type": "code",
      "execution_count": 6,
      "metadata": {
        "id": "ggVhtsqy05ko"
      },
      "outputs": [
        {
          "name": "stdout",
          "output_type": "stream",
          "text": [
            "ResultBAFn: 0.292 ResultAFn: 0.29165378293815797\n",
            "ResultBAFn: 0.868 ResultAFn: 0.8676676066881353\n",
            "ResultBAFn: 0.661 ResultAFn: 0.6607643868982962\n",
            "ResultBAFn: 1.237 ResultAFn: 1.2367782106482734\n"
          ]
        }
      ],
      "source": [
        "activationFn = lambda x: x \n",
        "\n",
        "for j in range(n):\n",
        "    x, expected = choice(dataset) \n",
        "    result = dot(weights, x) \n",
        "    err = expected-activationFn(result)\n",
        "    weights += r * err * x\n",
        "\n",
        "for x, _ in dataset:\n",
        "    result = dot(x, weights)\n",
        "    print(\"ResultBAFn: {} ResultAFn: {}\".format(round(result,3), activationFn(result)))    "
      ]
    },
    {
      "cell_type": "markdown",
      "metadata": {
        "id": "Pz204q2v1Zj2"
      },
      "source": [
        "###Training & Evaluating using SIGMOID Activation Function"
      ]
    },
    {
      "cell_type": "code",
      "execution_count": 13,
      "metadata": {},
      "outputs": [
        {
          "name": "stdout",
          "output_type": "stream",
          "text": [
            "ResultBAFn: -0.638 ResultAFn: 0.3457887573920194\n",
            "ResultBAFn: 1.854 ResultAFn: 0.8645768047116867\n",
            "ResultBAFn: 2.223 ResultAFn: 0.9023082443318197\n",
            "ResultBAFn: 4.715 ResultAFn: 0.9911159742718707\n"
          ]
        }
      ],
      "source": [
        "import numpy as np\n",
        "activationFn = lambda x: 1/(1+np.exp(-x))\n",
        "err = []\n",
        "for j in range(n):\n",
        "    x, expected = choice(dataset) \n",
        "    result = np.dot(weights, x) \n",
        "    error = expected - activationFn(result)\n",
        "    err.append(error)  # Append the error to the list 'err'\n",
        "    weights += r * error * x\n",
        "\n",
        "for x, _ in dataset:\n",
        "    result = np.dot(x, weights)\n",
        "    print(\"ResultBAFn: {} ResultAFn: {}\".format(round(result,3), activationFn(result)))\n"
      ]
    },
    {
      "cell_type": "markdown",
      "metadata": {
        "id": "k967JyLm4dTw"
      },
      "source": [
        "###Training & Evaluating using RELU Activation Function"
      ]
    },
    {
      "cell_type": "code",
      "execution_count": 14,
      "metadata": {
        "id": "0w3KJ2A81ynL"
      },
      "outputs": [
        {
          "name": "stdout",
          "output_type": "stream",
          "text": [
            "ResultBAFn: -0.017 ResultAFn: 0\n",
            "ResultBAFn: 0.994 ResultAFn: 0.9942940909065312\n",
            "ResultBAFn: 1.0 ResultAFn: 0.9999228832433107\n",
            "ResultBAFn: 2.011 ResultAFn: 2.011388782235589\n"
          ]
        }
      ],
      "source": [
        "activationFn = lambda x: 0 if x < 0 else x \n",
        "for j in range(n):\n",
        "    x, expected = choice(dataset) \n",
        "    result = dot(weights, x)\n",
        "    err = expected-activationFn(result)\n",
        "    weights += r * err * x\n",
        "\n",
        "for x, _ in dataset:\n",
        "    result = dot(x, weights)\n",
        "    print(\"ResultBAFn: {} ResultAFn: {}\".format(round(result,3), activationFn(result)))    "
      ]
    },
    {
      "cell_type": "markdown",
      "metadata": {
        "id": "dhfA-Lkq5AbT"
      },
      "source": [
        "###Training & Evaluating using SOFTMAX Activation Function"
      ]
    },
    {
      "cell_type": "code",
      "execution_count": 15,
      "metadata": {
        "id": "vEurppgE5GAU"
      },
      "outputs": [
        {
          "ename": "AttributeError",
          "evalue": "'numpy.float64' object has no attribute 'append'",
          "output_type": "error",
          "traceback": [
            "\u001b[1;31m---------------------------------------------------------------------------\u001b[0m",
            "\u001b[1;31mAttributeError\u001b[0m                            Traceback (most recent call last)",
            "\u001b[1;32md:\\Artificial_Intelligence\\AI\\AI 2\\DEEP_LEARNING\\DAY_4\\4\\4_DL_ActivationFunction.ipynb Cell 20\u001b[0m line \u001b[0;36m<cell line: 3>\u001b[1;34m()\u001b[0m\n\u001b[0;32m      <a href='vscode-notebook-cell:/d%3A/Artificial_Intelligence/AI/AI%202/DEEP_LEARNING/DAY_4/4/4_DL_ActivationFunction.ipynb#X25sZmlsZQ%3D%3D?line=4'>5</a>\u001b[0m     result \u001b[39m=\u001b[39m dot(weights, x) \n\u001b[0;32m      <a href='vscode-notebook-cell:/d%3A/Artificial_Intelligence/AI/AI%202/DEEP_LEARNING/DAY_4/4/4_DL_ActivationFunction.ipynb#X25sZmlsZQ%3D%3D?line=5'>6</a>\u001b[0m     err \u001b[39m=\u001b[39m expected\u001b[39m-\u001b[39mactivationFn(result)\n\u001b[1;32m----> <a href='vscode-notebook-cell:/d%3A/Artificial_Intelligence/AI/AI%202/DEEP_LEARNING/DAY_4/4/4_DL_ActivationFunction.ipynb#X25sZmlsZQ%3D%3D?line=6'>7</a>\u001b[0m     error\u001b[39m.\u001b[39;49mappend(err)\n\u001b[0;32m      <a href='vscode-notebook-cell:/d%3A/Artificial_Intelligence/AI/AI%202/DEEP_LEARNING/DAY_4/4/4_DL_ActivationFunction.ipynb#X25sZmlsZQ%3D%3D?line=7'>8</a>\u001b[0m     weights \u001b[39m+\u001b[39m\u001b[39m=\u001b[39m r \u001b[39m*\u001b[39m err \u001b[39m*\u001b[39m x\n\u001b[0;32m     <a href='vscode-notebook-cell:/d%3A/Artificial_Intelligence/AI/AI%202/DEEP_LEARNING/DAY_4/4/4_DL_ActivationFunction.ipynb#X25sZmlsZQ%3D%3D?line=9'>10</a>\u001b[0m \u001b[39mfor\u001b[39;00m x, _ \u001b[39min\u001b[39;00m dataset:\n",
            "\u001b[1;31mAttributeError\u001b[0m: 'numpy.float64' object has no attribute 'append'"
          ]
        }
      ],
      "source": [
        "activationFn = lambda x: np.exp(x) / np.sum(np.exp(x), axis=0)\n",
        "err = []\n",
        "for j in range(n):\n",
        "    x, expected = choice(dataset) \n",
        "    result = dot(weights, x) \n",
        "    err = expected-activationFn(result)\n",
        "    error.append(err)\n",
        "    weights += r * err * x\n",
        "\n",
        "for x, _ in dataset:\n",
        "    result = dot(x, weights)\n",
        "    print(\"ResultBAFn: {} ResultAFn: {}\".format(round(result,3), activationFn(result)))    "
      ]
    },
    {
      "cell_type": "code",
      "execution_count": 16,
      "metadata": {},
      "outputs": [
        {
          "name": "stdout",
          "output_type": "stream",
          "text": [
            "ResultBAFn: -0.11 ResultAFn: 0.4726241020422135\n",
            "ResultBAFn: 1.971 ResultAFn: 0.8776777346149318\n",
            "ResultBAFn: 1.929 ResultAFn: 0.873188228044274\n",
            "ResultBAFn: 4.01 ResultAFn: 0.9821839850182714\n"
          ]
        }
      ],
      "source": [
        "import numpy as np\n",
        "activationFn = lambda x: 1 / (1 + np.exp(-x))\n",
        "err = []\n",
        "for j in range(n):\n",
        "    x, expected = choice(dataset)\n",
        "    result = np.dot(weights, x)\n",
        "    error = expected - activationFn(result)\n",
        "    err.append(error)  # Append the error to the list 'err'\n",
        "    weights += r * error * x\n",
        "\n",
        "for x, _ in dataset:\n",
        "    result = np.dot(x, weights)\n",
        "    print(\"ResultBAFn: {} ResultAFn: {}\".format(round(result, 3), activationFn(result)))\n"
      ]
    },
    {
      "cell_type": "code",
      "execution_count": null,
      "metadata": {},
      "outputs": [],
      "source": []
    }
  ],
  "metadata": {
    "colab": {
      "collapsed_sections": [],
      "name": "2_DL_ActivationFunction.ipynb",
      "provenance": []
    },
    "kernelspec": {
      "display_name": "Python 3",
      "name": "python3"
    },
    "language_info": {
      "codemirror_mode": {
        "name": "ipython",
        "version": 3
      },
      "file_extension": ".py",
      "mimetype": "text/x-python",
      "name": "python",
      "nbconvert_exporter": "python",
      "pygments_lexer": "ipython3",
      "version": "3.10.2"
    }
  },
  "nbformat": 4,
  "nbformat_minor": 0
}
